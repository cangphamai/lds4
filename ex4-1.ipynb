{
 "cells": [
  {
   "cell_type": "code",
   "execution_count": 3,
   "metadata": {},
   "outputs": [],
   "source": [
    "from mysql.connector import connect, Error"
   ]
  },
  {
   "cell_type": "code",
   "execution_count": 4,
   "metadata": {},
   "outputs": [],
   "source": [
    "con = connect(host='localhost', user='root', password='', database='salesdb')"
   ]
  },
  {
   "cell_type": "code",
   "execution_count": 5,
   "metadata": {},
   "outputs": [],
   "source": [
    "mycursor = con.cursor()"
   ]
  },
  {
   "cell_type": "code",
   "execution_count": 6,
   "metadata": {},
   "outputs": [
    {
     "data": {
      "text/plain": [
       "<mysql.connector.cursor_cext.CMySQLCursor at 0x5c454a8>"
      ]
     },
     "execution_count": 6,
     "metadata": {},
     "output_type": "execute_result"
    }
   ],
   "source": [
    "mycursor"
   ]
  },
  {
   "cell_type": "code",
   "execution_count": 7,
   "metadata": {},
   "outputs": [],
   "source": [
    "createsql = '''\n",
    "    create table Customers(\n",
    "        Id int AUTO_INCREMENT primary key,\n",
    "        FirstName varchar(40) not null,\n",
    "        LastName varchar(40) not null,\n",
    "        city varchar(40),\n",
    "        country varchar(40),\n",
    "        phone varchar(20)\n",
    "    );\n",
    "    \n",
    "    create table Suppliers(\n",
    "        Id int AUTO_INCREMENT primary key,\n",
    "        CompanyName varchar(40) not null,\n",
    "        ContactName varchar(50) not null,\n",
    "        ContactTitle varchar(40),\n",
    "        City varchar(40),\n",
    "        Country varchar(40),\n",
    "        Phone varchar(30),\n",
    "        Fax varchar(30)\n",
    "    );\n",
    "    \n",
    "    create table Products(\n",
    "        Id int AUTO_INCREMENT primary key,\n",
    "        ProductName varchar(50) not null,\n",
    "        SupplierId int not null,\n",
    "        UnitPrice decimal,\n",
    "        Package varchar(30),\n",
    "        IsDiscontinued bit,\n",
    "        CONSTRAINT FK_SupplierId FOREIGN KEY (SupplierId) REFERENCES Suppliers(id)\n",
    "    );\n",
    "    \n",
    "    create table Orders(\n",
    "        Id int AUTO_INCREMENT primary key,\n",
    "        OrderDate DateTime not null,\n",
    "        OrderNumber varchar(10) not null,\n",
    "        CustomerId int not null,\n",
    "        TotalAmount decimal,\n",
    "        CONSTRAINT FK_CustomerID FOREIGN KEY (CustomerId) REFERENCES Customers(id)\n",
    "    );\n",
    "    \n",
    "    create table OrderItems(\n",
    "        Id int AUTO_INCREMENT primary key,\n",
    "        OrderId int not null,\n",
    "        ProductId int not null,\n",
    "        UnitPrice decimal,\n",
    "        Quantity int,\n",
    "        CONSTRAINT FK_OrderId FOREIGN KEY (OrderId) REFERENCES Orders(id),\n",
    "        CONSTRAINT FK_ProductId FOREIGN KEY (ProductId) REFERENCES Products(id)\n",
    "    );\n",
    "'''"
   ]
  },
  {
   "cell_type": "code",
   "execution_count": 8,
   "metadata": {},
   "outputs": [],
   "source": [
    "try:\n",
    "    results = mycursor.execute(createsql, multi=True)\n",
    "except Exception as er:\n",
    "    print(\"loi: \", er)\n",
    "\n",
    "mycursor.close()\n",
    "con.close()"
   ]
  },
  {
   "cell_type": "code",
   "execution_count": 9,
   "metadata": {},
   "outputs": [],
   "source": [
    "con = connect(host='localhost', user='root', password='', database='salesdb')\n",
    "mycursor = con.cursor()\n",
    "f = open('SALESDB_data.sql')\n",
    "try:\n",
    "    results = mycursor.execute(f.read(), multi=True)\n",
    "    results.send(None)\n",
    "except Exception as er:\n",
    "    print(\"loi:\", er)\n",
    "\n",
    "\n",
    "mycursor.close()\n",
    "con.close()"
   ]
  },
  {
   "cell_type": "code",
   "execution_count": null,
   "metadata": {},
   "outputs": [],
   "source": []
  }
 ],
 "metadata": {
  "kernelspec": {
   "display_name": "Python 3",
   "language": "python",
   "name": "python3"
  },
  "language_info": {
   "codemirror_mode": {
    "name": "ipython",
    "version": 3
   },
   "file_extension": ".py",
   "mimetype": "text/x-python",
   "name": "python",
   "nbconvert_exporter": "python",
   "pygments_lexer": "ipython3",
   "version": "3.6.8"
  }
 },
 "nbformat": 4,
 "nbformat_minor": 2
}
