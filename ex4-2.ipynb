{
 "cells": [
  {
   "cell_type": "code",
   "execution_count": 11,
   "metadata": {},
   "outputs": [],
   "source": [
    "sql = \"select * from customers where country='brazil'\""
   ]
  },
  {
   "cell_type": "code",
   "execution_count": 12,
   "metadata": {},
   "outputs": [],
   "source": [
    "def executeSql(sql):\n",
    "    from mysql.connector import connect, Error\n",
    "    conn = connect(host=\"localhost\", database=\"salesdb\", user=\"root\", password=\"\")\n",
    "    cursor = conn.cursor()\n",
    "    cursor.execute(sql)\n",
    "    row = cursor.fetchone()\n",
    "    while row:\n",
    "        print(row)\n",
    "        row = cursor.fetchone()\n",
    "    cursor.close()\n",
    "    conn.close()"
   ]
  },
  {
   "cell_type": "code",
   "execution_count": 13,
   "metadata": {},
   "outputs": [
    {
     "name": "stdout",
     "output_type": "stream",
     "text": [
      "(15, 'Pedro', 'Afonso', 'Sao Paulo', 'Brazil', '(11) 555-7647')\n",
      "(21, 'Aria', 'Cruz', 'Sao Paulo', 'Brazil', '(11) 555-9857')\n",
      "(31, 'AndrÃ©', 'Fonseca', 'Campinas', 'Brazil', '(11) 555-9482')\n",
      "(34, 'Mario', 'Pontes', 'Rio de Janeiro', 'Brazil', '(21) 555-0091')\n",
      "(61, 'Bernardo', 'Batista', 'Rio de Janeiro', 'Brazil', '(21) 555-4252')\n",
      "(62, 'LÃºcia', 'Carvalho', 'Sao Paulo', 'Brazil', '(11) 555-1189')\n",
      "(67, 'Janete', 'Limeira', 'Rio de Janeiro', 'Brazil', '(21) 555-3412')\n",
      "(81, 'Anabela', 'Domingues', 'Sao Paulo', 'Brazil', '(11) 555-2167')\n",
      "(88, 'Paula', 'Parente', 'Resende', 'Brazil', '(14) 555-8122')\n"
     ]
    }
   ],
   "source": [
    "executeSql(sql)"
   ]
  },
  {
   "cell_type": "code",
   "execution_count": 14,
   "metadata": {},
   "outputs": [
    {
     "name": "stdout",
     "output_type": "stream",
     "text": [
      "(1, 'Exotic Liquids', 'Charlotte Cooper', None, 'London', 'UK', '(171) 555-2222', None)\n",
      "(2, 'New Orleans Ca6/Delights', 'Shelley Burke', None, 'New Orleans', 'USA', '(100) 555-4822', None)\n",
      "(4, 'Tokyo Traders', 'Yoshi Nagase', None, 'Tokyo', 'Japan', '(03) 3555-5011', None)\n",
      "(5, \"Cooperativa de Quesos 'Las Cabras'\", 'Antonio del Valle Saavedra', None, 'Oviedo', 'Spain', '(98) 598 76 54', None)\n",
      "(6, \"Mayumi's\", 'Mayumi Ohno', None, 'Osaka', 'Japan', '(06) 431-7877', None)\n",
      "(8, 'Specialty Biscuits, Ltd.', 'Peter Wilson', None, 'Manchester', 'UK', '(161) 555-4448', None)\n",
      "(10, 'Refrescos Americanas LTDA', 'Carlos Diaz', None, 'Sao Paulo', 'Brazil', '(11) 555 4640', None)\n",
      "(11, 'Heli SÃ¼ÃŸwaren GmbH & Co. KG', 'Petra Winkler', None, 'Berlin', 'Germany', '(010) 9984510', None)\n",
      "(12, 'Plutzer LebensmittelgroÃŸmÃ¤rkte AG', 'Martin Bein', None, 'Frankfurt', 'Germany', '(069) 992755', None)\n",
      "(15, 'Norske Meierier', 'Beate Vileid', None, 'Sandvika', 'Norway', '(0);2-953010', None)\n",
      "(16, 'Bigfoot Breweries', 'Cheryl Saylor', None, 'Bend', 'USA', '(503) 555-9931', None)\n",
      "(17, 'Svensk SjÃ¶fÃ¶da AB', 'Michael BjÃ¶rn', None, 'Stockholm', 'Sweden', '08-123 45 67', None)\n",
      "(20, 'Leka Trading', 'Chandra Leka', None, 'Singapore', 'Singapore', '555-8787', None)\n",
      "(23, 'Karkki Oy', 'Anne Heikkonen', None, 'Lappeenranta', 'Finland', '(953) 10956', None)\n",
      "(25, 'Ma Maison', 'Jean-Guy Lauzon', None, 'MontrÃ©al', 'Canada', '(514) 555-9022', None)\n",
      "(27, 'Escargots Nouveaux', 'Marie Delamare', None, 'Montceau', 'France', '85.57.00.07', None)\n"
     ]
    }
   ],
   "source": [
    "#list suppliers dont have fax number\n",
    "sql3 = \"select * from suppliers where fax is null\"\n",
    "executeSql(sql3)"
   ]
  },
  {
   "cell_type": "code",
   "execution_count": 15,
   "metadata": {},
   "outputs": [
    {
     "name": "stdout",
     "output_type": "stream",
     "text": [
      "(7, \"Uncle Bob's Organic Dried Pears\", 3, Decimal('30'), '12 - 1 lb pkgs.', 0)\n",
      "(8, 'Northwoods Cranberry Sauce', 3, Decimal('40'), '12 - 12 oz jars', 0)\n",
      "(10, 'Ikura', 4, Decimal('31'), '12 - 200 ml jars', 0)\n",
      "(12, 'Queso Manchego La Pastora', 5, Decimal('38'), '10 - 500 g pkgs.', 0)\n",
      "(17, 'Alice Mutton', 7, Decimal('39'), '20 - 1 kg tins', 1)\n",
      "(26, 'GumbÃ¤r GummibÃ¤rchen', 11, Decimal('31'), '100 - 250 g bags', 0)\n",
      "(27, 'Schoggi Schokolade', 11, Decimal('44'), '100 - 100 g pieces', 0)\n",
      "(28, 'RÃ¶ssle Sauerkraut', 12, Decimal('46'), '25 - 825 g cans', 1)\n",
      "(32, 'Mascarpone Fabioli', 14, Decimal('32'), '24 - 200 g pkgs.', 0)\n",
      "(43, 'Ipoh Coffee', 20, Decimal('46'), '16 - 500 g tins', 0)\n",
      "(51, 'Manjimup Dried Apples', 24, Decimal('53'), '50 - 300 g pkgs.', 0)\n",
      "(53, 'Perth Pasties', 24, Decimal('33'), '48 pieces', 1)\n",
      "(56, 'Gnocchi di nonna Alice', 26, Decimal('38'), '24 - 250 g pkgs.', 0)\n",
      "(59, 'Raclette Courdavault', 28, Decimal('55'), '5 kg pkg.', 0)\n",
      "(60, 'Camembert Pierrot', 28, Decimal('34'), '15 - 300 g rounds', 0)\n",
      "(62, 'Tarte au sucre', 29, Decimal('49'), '48 pies', 0)\n",
      "(63, 'Vegie-spread', 7, Decimal('44'), '15 - 625 g jars', 0)\n",
      "(64, 'Wimmers gute SemmelknÃ¶del', 12, Decimal('33'), '20 bags x 4 pieces', 0)\n",
      "(69, 'Gudbrandsdalsost', 15, Decimal('36'), '10 kg pkg.', 0)\n",
      "(72, 'Mozzarella di Giovanni', 14, Decimal('35'), '24 - 200 g pkgs.', 0)\n"
     ]
    }
   ],
   "source": [
    "#list products have unit price between 30 and 60\n",
    "sql4 = \"select * from products where unitprice between 30 and 60\"\n",
    "executeSql(sql4)"
   ]
  },
  {
   "cell_type": "code",
   "execution_count": 16,
   "metadata": {},
   "outputs": [
    {
     "name": "stdout",
     "output_type": "stream",
     "text": [
      "(3, 'Antonio', 'Moreno', 'MÃ©xico D.F.', 'Mexico', '(5) 555-3932')\n",
      "(27, 'Paolo', 'Accorti', 'Torino', 'Italy', '011-4988260')\n"
     ]
    }
   ],
   "source": [
    "#list customers have 2 'o' character in name\n",
    "sql5 = \"select * from customers where firstname like '%o%o%'\"\n",
    "executeSql(sql5)"
   ]
  },
  {
   "cell_type": "code",
   "execution_count": 18,
   "metadata": {},
   "outputs": [
    {
     "name": "stdout",
     "output_type": "stream",
     "text": [
      "(2, 'Ana', 'Trujillo', 'MÃ©xico D.F.', 'Mexico', '(5) 555-4729')\n",
      "(3, 'Antonio', 'Moreno', 'MÃ©xico D.F.', 'Mexico', '(5) 555-3932')\n",
      "(6, 'Hanna', 'Moos', 'Mannheim', 'Germany', '0621-08460')\n",
      "(8, 'MartÃ\\xadn', 'Sommer', 'Madrid', 'Spain', '(91) 555 22 82')\n",
      "(9, 'Laurence', 'Lebihan', 'Marseille', 'France', '91.24.45.40')\n",
      "(13, 'Francisco', 'Chang', 'MÃ©xico D.F.', 'Mexico', '(5) 555-3392')\n",
      "(22, 'Diego', 'Roel', 'Madrid', 'Spain', '(91) 555 94 44')\n",
      "(25, 'Peter', 'Franken', 'MÃ¼nchen', 'Germany', '089-0877310')\n",
      "(41, 'Annette', 'Roulet', 'Toulouse', 'France', '61.77.61.10')\n",
      "(58, 'Guillermo', 'FernÃ¡ndez', 'MÃ©xico D.F.', 'Mexico', '(5) 552-3745')\n",
      "(69, 'Alejandra', 'Camino', 'Madrid', 'Spain', '(91) 745 6200')\n",
      "(79, 'Karin', 'Josephs', 'MÃ¼nster', 'Germany', '0251-031259')\n",
      "(80, 'Miguel', 'Angel Paolino', 'MÃ©xico D.F.', 'Mexico', '(5) 555-2933')\n"
     ]
    }
   ],
   "source": [
    "#list customers had firstname like %A %E or city start with \"Ma\"\n",
    "sql6 = \"select * from customers where firstname like 'A%E' or city like 'Ma%'\"\n",
    "executeSql(sql6)"
   ]
  },
  {
   "cell_type": "markdown",
   "metadata": {},
   "source": [
    "## ex 4-3"
   ]
  },
  {
   "cell_type": "code",
   "execution_count": 19,
   "metadata": {},
   "outputs": [
    {
     "name": "stdout",
     "output_type": "stream",
     "text": [
      "(38, 'CÃ´te de Blaye', Decimal('264'), 'Aux joyeux ecclÃ©siastiques')\n",
      "(39, 'Chartreuse verte', Decimal('18'), 'Aux joyeux ecclÃ©siastiques')\n",
      "(34, 'Sasquatch Ale', Decimal('14'), 'Bigfoot Breweries')\n",
      "(35, 'Steeleye Stout', Decimal('18'), 'Bigfoot Breweries')\n",
      "(67, 'Laughing Lumberjack Lager', Decimal('14'), 'Bigfoot Breweries')\n",
      "(11, 'Queso Cabrales', Decimal('21'), \"Cooperativa de Quesos 'Las Cabras'\")\n",
      "(12, 'Queso Manchego La Pastora', Decimal('38'), \"Cooperativa de Quesos 'Las Cabras'\")\n",
      "(58, 'Escargots de Bourgogne', Decimal('13'), 'Escargots Nouveaux')\n",
      "(1, 'Chai', Decimal('18'), 'Exotic Liquids')\n",
      "(2, 'Chang', Decimal('19'), 'Exotic Liquids')\n",
      "(3, 'Aniseed Syrup', Decimal('10'), 'Exotic Liquids')\n",
      "(62, 'Tarte au sucre', Decimal('49'), \"ForÃªts d'Ã©rables\")\n",
      "(61, \"Sirop d'Ã©rable\", Decimal('29'), \"ForÃªts d'Ã©rables\")\n",
      "(31, 'Gorgonzola Telino', Decimal('13'), 'Formaggi Fortini s.r.l.')\n",
      "(32, 'Mascarpone Fabioli', Decimal('32'), 'Formaggi Fortini s.r.l.')\n",
      "(72, 'Mozzarella di Giovanni', Decimal('35'), 'Formaggi Fortini s.r.l.')\n",
      "(51, 'Manjimup Dried Apples', Decimal('53'), \"G'day, Mate\")\n",
      "(52, 'Filo Mix', Decimal('7'), \"G'day, Mate\")\n",
      "(53, 'Perth Pasties', Decimal('33'), \"G'day, Mate\")\n",
      "(59, 'Raclette Courdavault', Decimal('55'), 'Gai pÃ¢turage')\n",
      "(60, 'Camembert Pierrot', Decimal('34'), 'Gai pÃ¢turage')\n",
      "(6, \"Grandma's Boysenberry Spread\", Decimal('25'), \"Grandma Kelly's Homestead\")\n",
      "(7, \"Uncle Bob's Organic Dried Pears\", Decimal('30'), \"Grandma Kelly's Homestead\")\n",
      "(8, 'Northwoods Cranberry Sauce', Decimal('40'), \"Grandma Kelly's Homestead\")\n",
      "(25, 'NuNuCa NuÃŸ-Nougat-Creme', Decimal('14'), 'Heli SÃ¼ÃŸwaren GmbH & Co. KG')\n",
      "(26, 'GumbÃ¤r GummibÃ¤rchen', Decimal('31'), 'Heli SÃ¼ÃŸwaren GmbH & Co. KG')\n",
      "(27, 'Schoggi Schokolade', Decimal('44'), 'Heli SÃ¼ÃŸwaren GmbH & Co. KG')\n",
      "(49, 'Maxilaku', Decimal('20'), 'Karkki Oy')\n",
      "(50, 'Valkoinen suklaa', Decimal('16'), 'Karkki Oy')\n",
      "(76, 'LakkalikÃ¶Ã¶ri', Decimal('18'), 'Karkki Oy')\n",
      "(42, 'Singaporean Hokkien Fried Mee', Decimal('14'), 'Leka Trading')\n",
      "(43, 'Ipoh Coffee', Decimal('46'), 'Leka Trading')\n",
      "(44, 'Gula Malacca', Decimal('19'), 'Leka Trading')\n",
      "(46, 'Spegesild', Decimal('12'), 'Lyngbysild')\n",
      "(45, 'Rogede sild', Decimal('10'), 'Lyngbysild')\n",
      "(54, 'TourtiÃ¨re', Decimal('7'), 'Ma Maison')\n",
      "(55, 'PÃ¢tÃ© chinois', Decimal('24'), 'Ma Maison')\n",
      "(14, 'Tofu', Decimal('23'), \"Mayumi's\")\n",
      "(15, 'Genen Shouyu', Decimal('16'), \"Mayumi's\")\n",
      "(13, 'Konbu', Decimal('6'), \"Mayumi's\")\n",
      "(40, 'Boston Crab Meat', Decimal('18'), 'New England Seafood Cannery')\n",
      "(41, \"Jack's New England Clam Chowder\", Decimal('10'), 'New England Seafood Cannery')\n",
      "(65, 'Louisiana Fiery Hot Pepper Sauce', Decimal('21'), 'New Orleans Ca6/Delights')\n",
      "(66, 'Louisiana Hot Spiced Okra', Decimal('17'), 'New Orleans Ca6/Delights')\n",
      "(4, \"Chef Anton's Ca6/Seasoning\", Decimal('22'), 'New Orleans Ca6/Delights')\n",
      "(5, \"Chef Anton's Gumbo Mix\", Decimal('21'), 'New Orleans Ca6/Delights')\n",
      "(30, 'Nord-Ost Matjeshering', Decimal('26'), 'Nord-Ost-Fisch Handelsgesellschaft mbH')\n",
      "(71, 'Flotemysost', Decimal('22'), 'Norske Meierier')\n",
      "(33, 'Geitost', Decimal('3'), 'Norske Meierier')\n",
      "(69, 'Gudbrandsdalsost', Decimal('36'), 'Norske Meierier')\n",
      "(56, 'Gnocchi di nonna Alice', Decimal('38'), 'Pasta Buttini s.r.l.')\n",
      "(57, 'Ravioli Angelo', Decimal('20'), 'Pasta Buttini s.r.l.')\n",
      "(70, 'Outback Lager', Decimal('15'), 'Pavlova, Ltd.')\n",
      "(63, 'Vegie-spread', Decimal('44'), 'Pavlova, Ltd.')\n",
      "(16, 'Pavlova', Decimal('17'), 'Pavlova, Ltd.')\n",
      "(17, 'Alice Mutton', Decimal('39'), 'Pavlova, Ltd.')\n",
      "(18, 'Carnarvon Tigers', Decimal('63'), 'Pavlova, Ltd.')\n",
      "(22, \"Gustaf's KnÃ¤ckebrÃ¶d\", Decimal('21'), 'PB KnÃ¤ckebrÃ¶d AB')\n",
      "(23, 'TunnbrÃ¶d', Decimal('9'), 'PB KnÃ¤ckebrÃ¶d AB')\n",
      "(64, 'Wimmers gute SemmelknÃ¶del', Decimal('33'), 'Plutzer LebensmittelgroÃŸmÃ¤rkte AG')\n",
      "(75, 'RhÃ¶nbrÃ¤u Klosterbier', Decimal('8'), 'Plutzer LebensmittelgroÃŸmÃ¤rkte AG')\n",
      "(28, 'RÃ¶ssle Sauerkraut', Decimal('46'), 'Plutzer LebensmittelgroÃŸmÃ¤rkte AG')\n",
      "(29, 'ThÃ¼ringer Rostbratwurst', Decimal('124'), 'Plutzer LebensmittelgroÃŸmÃ¤rkte AG')\n",
      "(77, 'Original Frankfurter grÃ¼ne SoÃŸe', Decimal('13'), 'Plutzer LebensmittelgroÃŸmÃ¤rkte AG')\n",
      "(24, 'GuaranÃ¡ FantÃ¡stica', Decimal('5'), 'Refrescos Americanas LTDA')\n",
      "(19, 'Teatime Chocolate Biscuits', Decimal('9'), 'Specialty Biscuits, Ltd.')\n",
      "(20, \"Sir Rodney's Marmalade\", Decimal('81'), 'Specialty Biscuits, Ltd.')\n",
      "(68, 'Scottish Longbreads', Decimal('13'), 'Specialty Biscuits, Ltd.')\n",
      "(21, \"Sir Rodney's Scones\", Decimal('10'), 'Specialty Biscuits, Ltd.')\n",
      "(73, 'RÃ¶d Kaviar', Decimal('15'), 'Svensk SjÃ¶fÃ¶da AB')\n",
      "(36, 'Inlagd Sill', Decimal('19'), 'Svensk SjÃ¶fÃ¶da AB')\n",
      "(37, 'Gravad lax', Decimal('26'), 'Svensk SjÃ¶fÃ¶da AB')\n",
      "(9, 'Mishi Kobe Niku', Decimal('97'), 'Tokyo Traders')\n",
      "(10, 'Ikura', Decimal('31'), 'Tokyo Traders')\n",
      "(74, 'Longlife Tofu', Decimal('10'), 'Tokyo Traders')\n",
      "(78, 'Stroopwafels', Decimal('10'), 'Zaanse Snoepfabriek')\n",
      "(47, 'Zaanse koeken', Decimal('10'), 'Zaanse Snoepfabriek')\n",
      "(48, 'Chocolade', Decimal('13'), 'Zaanse Snoepfabriek')\n"
     ]
    }
   ],
   "source": [
    "sql31 = \"\"\"\n",
    "        select p.Id as productId, productname, unitprice, companyname \n",
    "        from products p\n",
    "        join  suppliers s on p.supplierid = s.id\n",
    "        order by companyname\n",
    "\"\"\"\n",
    "executeSql(sql31)"
   ]
  },
  {
   "cell_type": "code",
   "execution_count": 26,
   "metadata": {},
   "outputs": [
    {
     "name": "stdout",
     "output_type": "stream",
     "text": [
      "(108, datetime.datetime(2012, 11, 15, 0, 0), 'GuaranÃ¡ FantÃ¡stica', 25, Decimal('100'), 'Thomas Hardy')\n",
      "(108, datetime.datetime(2012, 11, 15, 0, 0), 'Ravioli Angelo', 25, Decimal('400'), 'Thomas Hardy')\n",
      "(136, datetime.datetime(2012, 12, 16, 0, 0), 'Konbu', 20, Decimal('100'), 'Thomas Hardy')\n",
      "(136, datetime.datetime(2012, 12, 16, 0, 0), 'Valkoinen suklaa', 15, Decimal('195'), 'Thomas Hardy')\n",
      "(136, datetime.datetime(2012, 12, 16, 0, 0), 'Gnocchi di nonna Alice', 20, Decimal('600'), 'Thomas Hardy')\n",
      "(206, datetime.datetime(2013, 2, 21, 0, 0), 'Chocolade', 15, Decimal('150'), 'Thomas Hardy')\n",
      "(206, datetime.datetime(2013, 2, 21, 0, 0), 'Outback Lager', 25, Decimal('300'), 'Thomas Hardy')\n",
      "(311, datetime.datetime(2013, 6, 4, 0, 0), 'Zaanse koeken', 25, Decimal('250'), 'Thomas Hardy')\n",
      "(311, datetime.datetime(2013, 6, 4, 0, 0), 'Manjimup Dried Apples', 20, Decimal('1060'), 'Thomas Hardy')\n",
      "(311, datetime.datetime(2013, 6, 4, 0, 0), 'Filo Mix', 30, Decimal('210'), 'Thomas Hardy')\n",
      "(311, datetime.datetime(2013, 6, 4, 0, 0), 'Perth Pasties', 18, Decimal('594'), 'Thomas Hardy')\n",
      "(311, datetime.datetime(2013, 6, 4, 0, 0), 'RÃ¶d Kaviar', 3, Decimal('45'), 'Thomas Hardy')\n",
      "(460, datetime.datetime(2013, 10, 16, 0, 0), 'PÃ¢tÃ© chinois', 21, Decimal('504'), 'Thomas Hardy')\n",
      "(460, datetime.datetime(2013, 10, 16, 0, 0), 'Ravioli Angelo', 40, Decimal('800'), 'Thomas Hardy')\n",
      "(460, datetime.datetime(2013, 10, 16, 0, 0), 'Outback Lager', 28, Decimal('420'), 'Thomas Hardy')\n",
      "(494, datetime.datetime(2013, 11, 14, 0, 0), 'Chang', 15, Decimal('285'), 'Thomas Hardy')\n",
      "(496, datetime.datetime(2013, 11, 17, 0, 0), 'Spegesild', 28, Decimal('336'), 'Thomas Hardy')\n",
      "(521, datetime.datetime(2013, 12, 8, 0, 0), \"Gustaf's KnÃ¤ckebrÃ¶d\", 4, Decimal('84'), 'Thomas Hardy')\n",
      "(521, datetime.datetime(2013, 12, 8, 0, 0), 'Gorgonzola Telino', 50, Decimal('650'), 'Thomas Hardy')\n",
      "(521, datetime.datetime(2013, 12, 8, 0, 0), 'Camembert Pierrot', 15, Decimal('510'), 'Thomas Hardy')\n",
      "(521, datetime.datetime(2013, 12, 8, 0, 0), 'Flotemysost', 12, Decimal('264'), 'Thomas Hardy')\n",
      "(546, datetime.datetime(2013, 12, 24, 0, 0), \"Jack's New England Clam Chowder\", 14, Decimal('140'), 'Thomas Hardy')\n",
      "(546, datetime.datetime(2013, 12, 24, 0, 0), 'Filo Mix', 8, Decimal('56'), 'Thomas Hardy')\n",
      "(617, datetime.datetime(2014, 2, 2, 0, 0), 'Steeleye Stout', 4, Decimal('72'), 'Thomas Hardy')\n",
      "(617, datetime.datetime(2014, 2, 2, 0, 0), 'Laughing Lumberjack Lager', 15, Decimal('210'), 'Thomas Hardy')\n",
      "(673, datetime.datetime(2014, 3, 3, 0, 0), 'Valkoinen suklaa', 24, Decimal('384'), 'Thomas Hardy')\n",
      "(706, datetime.datetime(2014, 3, 16, 0, 0), \"Sir Rodney's Marmalade\", 50, Decimal('4050'), 'Thomas Hardy')\n",
      "(706, datetime.datetime(2014, 3, 16, 0, 0), 'Gorgonzola Telino', 50, Decimal('650'), 'Thomas Hardy')\n",
      "(769, datetime.datetime(2014, 4, 10, 0, 0), 'Gorgonzola Telino', 15, Decimal('195'), 'Thomas Hardy')\n",
      "(769, datetime.datetime(2014, 4, 10, 0, 0), 'Inlagd Sill', 16, Decimal('304'), 'Thomas Hardy')\n"
     ]
    }
   ],
   "source": [
    "sql32 = \"\"\"\n",
    "        select o.id as order_id, o.orderdate, p.productname, \n",
    "            oi.quantity, oi.unitprice * oi.quantity as saleprice,\n",
    "            CONCAT(c.FirstName, ' ', c.LastName) AS customername       \n",
    "        from products p\n",
    "        join orderitems oi on p.id = oi.ProductId\n",
    "        join orders o on oi.orderid = o.id\n",
    "        join customers c on o.customerid = c.id\n",
    "        where c.firstname = 'thomas' and c.lastname = 'hardy'\n",
    "        \"\"\"\n",
    "executeSql(sql32)"
   ]
  },
  {
   "cell_type": "code",
   "execution_count": null,
   "metadata": {},
   "outputs": [],
   "source": []
  }
 ],
 "metadata": {
  "kernelspec": {
   "display_name": "Python 3",
   "language": "python",
   "name": "python3"
  },
  "language_info": {
   "codemirror_mode": {
    "name": "ipython",
    "version": 3
   },
   "file_extension": ".py",
   "mimetype": "text/x-python",
   "name": "python",
   "nbconvert_exporter": "python",
   "pygments_lexer": "ipython3",
   "version": "3.6.8"
  }
 },
 "nbformat": 4,
 "nbformat_minor": 2
}
