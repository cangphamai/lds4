{
 "cells": [
  {
   "cell_type": "code",
   "execution_count": 1,
   "metadata": {},
   "outputs": [],
   "source": [
    "from mysql.connector import connect"
   ]
  },
  {
   "cell_type": "code",
   "execution_count": 26,
   "metadata": {},
   "outputs": [],
   "source": [
    "ketnoi = connect(host='localhost', user='root', password='', database='productshipping', port='3308')"
   ]
  },
  {
   "cell_type": "code",
   "execution_count": 27,
   "metadata": {},
   "outputs": [],
   "source": [
    "cursor = ketnoi.cursor()"
   ]
  },
  {
   "cell_type": "markdown",
   "metadata": {},
   "source": [
    "## Thực hiện truy vấn bằng Execute"
   ]
  },
  {
   "cell_type": "code",
   "execution_count": 6,
   "metadata": {},
   "outputs": [],
   "source": [
    "lenh = 'Select * from products where SupplierId = 3'"
   ]
  },
  {
   "cell_type": "code",
   "execution_count": 17,
   "metadata": {},
   "outputs": [],
   "source": [
    "#thực thi câu lệnh\n",
    "results = cursor.execute(lenh)"
   ]
  },
  {
   "cell_type": "code",
   "execution_count": 8,
   "metadata": {},
   "outputs": [
    {
     "name": "stdout",
     "output_type": "stream",
     "text": [
      "(6, 'Product VAIIV', 3, 2, 25.0, 0)\n",
      "(7, 'Product HMLNI', 3, 7, 30.0, 0)\n",
      "(8, 'Product WVJFP', 3, 2, 40.0, 0)\n"
     ]
    }
   ],
   "source": [
    "#câu lệnh đơn --> Kết quả được lưu trong Cursor\n",
    "#cách 1: dùng vòng lặp for duyệt từng dòng trong cursor\n",
    "for row in cursor:\n",
    "    print(row)"
   ]
  },
  {
   "cell_type": "code",
   "execution_count": 11,
   "metadata": {},
   "outputs": [
    {
     "name": "stdout",
     "output_type": "stream",
     "text": [
      "(6, 'Product VAIIV', 3, 2, 25.0, 0)\n",
      "(7, 'Product HMLNI', 3, 7, 30.0, 0)\n",
      "(8, 'Product WVJFP', 3, 2, 40.0, 0)\n"
     ]
    }
   ],
   "source": [
    "#cách 2: dùng vòng lặp while kết hợp fetchone -> đọc từng dòng\n",
    "row = cursor.fetchone()\n",
    "while row:\n",
    "    print(row)\n",
    "    row = cursor.fetchone()"
   ]
  },
  {
   "cell_type": "code",
   "execution_count": 14,
   "metadata": {},
   "outputs": [
    {
     "name": "stdout",
     "output_type": "stream",
     "text": [
      "[(6, 'Product VAIIV', 3, 2, 25.0, 0)]\n",
      "[(7, 'Product HMLNI', 3, 7, 30.0, 0), (8, 'Product WVJFP', 3, 2, 40.0, 0)]\n"
     ]
    }
   ],
   "source": [
    "#cách 3: dùng fetchmany(n) để duyệt n dòng cùng 1 lúc, nếu không khai báo n thì mặc định n=1\n",
    "dong1 = cursor.fetchmany()\n",
    "dong2_3 = cursor.fetchmany(2)\n",
    "print(dong1)\n",
    "print(dong2_3)"
   ]
  },
  {
   "cell_type": "code",
   "execution_count": 18,
   "metadata": {},
   "outputs": [
    {
     "name": "stdout",
     "output_type": "stream",
     "text": [
      "[(7, 'Product HMLNI', 3, 7, 30.0, 0), (8, 'Product WVJFP', 3, 2, 40.0, 0)]\n"
     ]
    }
   ],
   "source": [
    "#cách 4: dùng fetchall để đọc tất cả các dòng từ vị trí hiện tại của cursor\n",
    "dong1 = cursor.fetchone()\n",
    "dong_all = cursor.fetchall()\n",
    "print(dong_all)"
   ]
  },
  {
   "cell_type": "markdown",
   "metadata": {},
   "source": [
    "## Thực hiện truy vấn có tham số"
   ]
  },
  {
   "cell_type": "code",
   "execution_count": 20,
   "metadata": {},
   "outputs": [],
   "source": [
    "#trong MySQL sử dụng ký hiệu %s để truyền tham số cho truy vấn\n",
    "def doc_san_pham_theo_nha_cung_cap(id_nha_cung_cap, cursor):\n",
    "    lenh = 'Select * from products where SupplierId = %s'\n",
    "    #Tạo bộ dữ liệu để truyền vào cho tham số\n",
    "    data = (id_nha_cung_cap,)\n",
    "    #sử dụng params để truyền giá trị cho tham số trong Execute\n",
    "    results = cursor.execute(lenh, params=data)\n",
    "    #xuất kết quả\n",
    "    for row in cursor:\n",
    "        print(row)"
   ]
  },
  {
   "cell_type": "code",
   "execution_count": 22,
   "metadata": {},
   "outputs": [
    {
     "name": "stdout",
     "output_type": "stream",
     "text": [
      "Nhập mã nhà cung cấp: 6\n",
      "(13, 'Product POXFU', 6, 8, 6.0, 0)\n",
      "(14, 'Product PWCJB', 6, 7, 23.25, 0)\n",
      "(15, 'Product KSZOI', 6, 2, 15.5, 0)\n"
     ]
    }
   ],
   "source": [
    "id_ncc = input('Nhập mã nhà cung cấp: ')\n",
    "doc_san_pham_theo_nha_cung_cap(id_ncc, cursor)"
   ]
  },
  {
   "cell_type": "markdown",
   "metadata": {},
   "source": [
    "## Thực hiện nhiều truy vấn đồng thời"
   ]
  },
  {
   "cell_type": "code",
   "execution_count": 31,
   "metadata": {},
   "outputs": [],
   "source": [
    "lenh = '''\n",
    "    Select SupplierId, Companyname, Contactname, Address from Suppliers where country = 'Germany';\n",
    "    Select CustId, Companyname, Contactname, Address from Customers where country = 'Germany';\n",
    "'''"
   ]
  },
  {
   "cell_type": "code",
   "execution_count": 34,
   "metadata": {},
   "outputs": [],
   "source": [
    "#thực thi câu lệnh, sử dụng thuộc tính multi=True để khai báo nhiều câu lệnh \n",
    "results = cursor.execute(lenh, multi=True)"
   ]
  },
  {
   "cell_type": "code",
   "execution_count": 35,
   "metadata": {},
   "outputs": [
    {
     "name": "stdout",
     "output_type": "stream",
     "text": [
      "\n",
      "Bộ kết quả thứ: 1\n",
      "(11, 'Supplier ZPYVS', 'Jain, Mukesh', 'Tiergartenstraße 3456')\n",
      "(12, 'Supplier SVIYA', 'Regev, Barak', 'Bogenallee 9012')\n",
      "(13, 'Supplier TEGSC', 'Brehm, Peter', 'Frahmredder 3456')\n",
      "\n",
      "Bộ kết quả thứ: 2\n",
      "(1, 'Customer NRZBB', 'Allen, Michael', 'Obere Str. 0123')\n",
      "(6, 'Customer XHXJV', 'Poland, Carole', 'Forsterstr. 7890')\n",
      "(17, 'Customer FEVNN', 'Jones, TiAnna', 'Walserweg 4567')\n",
      "(25, 'Customer AZJED', 'Carlson, Jason', 'Berliner Platz 9012')\n",
      "(39, 'Customer GLLAG', 'Song, Lolan', 'Maubelstr. 8901')\n",
      "(44, 'Customer OXFRU', 'Louverdis, George', 'Magazinweg 8901')\n",
      "(52, 'Customer PZNLA', 'Dupont-Roc, Patrice', 'Heerstr. 4567')\n",
      "(56, 'Customer QNIVZ', 'Marinova, Nadejda', 'Mehrheimerstr. 9012')\n",
      "(63, 'Customer IRRVL', 'Veronesi, Giorgio', 'Taucherstraße 1234')\n",
      "(79, 'Customer FAPSM', 'Wickham, Jim', 'Luisenstr. 0123')\n",
      "(86, 'Customer SNXOJ', 'Syamala, Manoj', 'Adenauerallee 7890')\n"
     ]
    }
   ],
   "source": [
    "#câu lệnh gồm nhiều truy vấn --> Kết quả được lưu trong results\n",
    "#mỗi lệnh truy vấn sẽ trả về 1 bộ dữ liệu\n",
    "i = 0\n",
    "for kq in results:  #duyệt qua từng bộ kết quả\n",
    "    i+=1\n",
    "    print('\\nBộ kết quả thứ:', i)\n",
    "    for row in kq:  #duyệt qua từng dòng trong bộ kết quả\n",
    "        print(row)"
   ]
  },
  {
   "cell_type": "markdown",
   "metadata": {},
   "source": [
    "## Thực hiện truy vấn với ExecuteMany\n",
    "##### ví dụ: Cập nhật đơn giá cho các sản phẩm theo yêu cầu:\n",
    "    - Nếu Mã Nhà cung cấp là 1 và sản phẩm là 'Product IMEHJ' thì đơn giá tăng thêm 5\n",
    "    - Nếu Mã Nhà cung cấp là 2 và sản phẩm là 'Product EPEIM' thì đơn giá tăng thêm 6\n",
    "    - Nếu Mã Nhà cung cấp là 3 và sản phẩm là 'Product HMLNI' thì đơn giá tăng thêm 10"
   ]
  },
  {
   "cell_type": "code",
   "execution_count": 37,
   "metadata": {},
   "outputs": [],
   "source": [
    "sql = '''\n",
    "update products\n",
    "set unitprice = unitprice + %s\n",
    "where productname = %s and SupplierId = %s\n",
    "'''\n",
    "datas = [\n",
    "    (5, 'Product IMEHJ', 1),\n",
    "    (6, 'Product EPEIM', 2),\n",
    "    (10, 'Product HMLNI', 3)\n",
    "]\n",
    "for data in datas:\n",
    "    cursor.execute(sql, data)"
   ]
  },
  {
   "cell_type": "code",
   "execution_count": 38,
   "metadata": {},
   "outputs": [],
   "source": [
    "#Đặt tên cho tham số --> truyền giá trị theo tên thay vì theo thứ tự\n",
    "sql = '''\n",
    "update products\n",
    "set unitprice = unitprice + %(giatang)s\n",
    "where productname = %(tensp)s and SupplierId = %(idnhacc)s\n",
    "'''\n",
    "datas = [\n",
    "    {'giatang': 5, 'tensp': 'Product IMEHJ', 'idnhacc': 1},\n",
    "    {'tensp': 'Product EPEIM', 'giatang': 6, 'idnhacc': 2},\n",
    "    {'tensp': 'Product HMLNI', 'idnhacc': 3, 'giatang': 10}\n",
    "]\n",
    "for data in datas:\n",
    "    cursor.execute(sql, data)  # dùng execute --> thực hiện 3 lần"
   ]
  },
  {
   "cell_type": "code",
   "execution_count": 39,
   "metadata": {},
   "outputs": [],
   "source": [
    "sql = '''\n",
    "update products\n",
    "set unitprice = unitprice + %(giatang)s\n",
    "where productname = %(tensp)s and SupplierId = %(idnhacc)s\n",
    "'''\n",
    "datas = [\n",
    "    {'giatang': 5, 'tensp': 'Product IMEHJ', 'idnhacc': 1},\n",
    "    {'tensp': 'Product EPEIM', 'giatang': 6, 'idnhacc': 2},\n",
    "    {'tensp': 'Product HMLNI', 'idnhacc': 3, 'giatang': 10}\n",
    "]\n",
    "\n",
    "cursor.executemany(sql, datas)"
   ]
  },
  {
   "cell_type": "code",
   "execution_count": 42,
   "metadata": {},
   "outputs": [],
   "source": [
    "cursor.close()\n",
    "ketnoi.close()"
   ]
  },
  {
   "cell_type": "code",
   "execution_count": null,
   "metadata": {},
   "outputs": [],
   "source": []
  }
 ],
 "metadata": {
  "kernelspec": {
   "display_name": "Python 3",
   "language": "python",
   "name": "python3"
  },
  "language_info": {
   "codemirror_mode": {
    "name": "ipython",
    "version": 3
   },
   "file_extension": ".py",
   "mimetype": "text/x-python",
   "name": "python",
   "nbconvert_exporter": "python",
   "pygments_lexer": "ipython3",
   "version": "3.6.8"
  }
 },
 "nbformat": 4,
 "nbformat_minor": 2
}
