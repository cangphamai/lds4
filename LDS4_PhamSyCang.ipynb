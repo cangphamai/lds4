{
 "cells": [
  {
   "cell_type": "markdown",
   "metadata": {},
   "source": [
    "## Câu 1 : Thực hiện các câu lệnh tạo bảng"
   ]
  },
  {
   "cell_type": "code",
   "execution_count": 1,
   "metadata": {},
   "outputs": [],
   "source": [
    "import sqlite3"
   ]
  },
  {
   "cell_type": "code",
   "execution_count": 2,
   "metadata": {},
   "outputs": [],
   "source": [
    "import pandas as pd\n",
    "import seaborn as sns\n",
    "import matplotlib.pyplot as plt\n",
    "%matplotlib inline"
   ]
  },
  {
   "cell_type": "markdown",
   "metadata": {},
   "source": [
    "#### 1. Kết nối đến Database có tên ThiLDS4"
   ]
  },
  {
   "cell_type": "code",
   "execution_count": 67,
   "metadata": {},
   "outputs": [],
   "source": [
    "conn = sqlite3.connect('ThiLDS4.db')"
   ]
  },
  {
   "cell_type": "code",
   "execution_count": 32,
   "metadata": {},
   "outputs": [],
   "source": [
    "def executeSqls(sql):\n",
    "    cursor = conn.cursor()\n",
    "    cursor.executescript(sql)\n",
    "    cursor.close()"
   ]
  },
  {
   "cell_type": "code",
   "execution_count": 33,
   "metadata": {},
   "outputs": [],
   "source": [
    "def executeSql(sql):\n",
    "    cursor = conn.cursor()\n",
    "    cursor.execute(sql)\n",
    "    row = cursor.fetchone()\n",
    "    while row:\n",
    "        print(row)\n",
    "        row = cursor.fetchone()\n",
    "    cursor.close()\n"
   ]
  },
  {
   "cell_type": "code",
   "execution_count": 39,
   "metadata": {},
   "outputs": [],
   "source": [
    "def executeMany(sql, param):\n",
    "    cursor = conn.cursor()\n",
    "    cursor.executemany(sql, param)\n",
    "    cursor.close()"
   ]
  },
  {
   "cell_type": "markdown",
   "metadata": {},
   "source": [
    "#### 2. Thực hiện các câu lệnh để tạo cấu trúc các bảng sau"
   ]
  },
  {
   "cell_type": "code",
   "execution_count": 68,
   "metadata": {},
   "outputs": [],
   "source": [
    "createTable = '''\n",
    "    create table PHONG_BAN(\n",
    "        Mapb varchar(2) primary key,\n",
    "        Tenphong varchar(50) not null\n",
    "    );\n",
    "    \n",
    "    create table NHAN_VIEN(\n",
    "        Manv varchar(3) primary key,\n",
    "        Tennv varchar(50) not null,\n",
    "        Mapb varchar(2) not null,\n",
    "        CONSTRAINT FK_PhongBanId FOREIGN KEY (Mapb) REFERENCES PHONG_BAN(Mapb) \n",
    "    );\n",
    "    \n",
    "    create table DE_NGHI(\n",
    "        Sotu varchar(7) primary key,\n",
    "        Ngay_tu DateTime not null,\n",
    "        Manv varchar(3) not null,\n",
    "        Sotien_tu int,\n",
    "        CONSTRAINT FK_NhanVienId FOREIGN KEY (Manv) REFERENCES Suppliers(Manv)\n",
    "    );\n",
    "    \n",
    "    create table PHIEU_CHI(\n",
    "        Sopc varchar(5) primary key,\n",
    "        Ngay_chi DateTime not null,\n",
    "        Sotu varchar(7) not null,\n",
    "        Manv varchar(3) not null,\n",
    "        Sotien_chi int,\n",
    "        CONSTRAINT FK_DeNghiID FOREIGN KEY (Sotu) REFERENCES DE_NGHI(id),\n",
    "        CONSTRAINT FK_NhanVienID FOREIGN KEY (Manv) REFERENCES NHAN_VIEN(id)\n",
    "    );\n",
    "'''\n",
    "executeSqls(createTable)"
   ]
  },
  {
   "cell_type": "markdown",
   "metadata": {},
   "source": [
    "#### 3. Thực hiện các câu lệnh SQL để thêm dữ liệu vào các bảng theo mô tả sau"
   ]
  },
  {
   "cell_type": "code",
   "execution_count": 69,
   "metadata": {},
   "outputs": [
    {
     "data": {
      "text/plain": [
       "<sqlite3.Cursor at 0x5a6d490>"
      ]
     },
     "execution_count": 69,
     "metadata": {},
     "output_type": "execute_result"
    }
   ],
   "source": [
    "paramPhongBan = [(\"KT\",\"Phòng kế toán\"), (\"NS\",\"Phòng nhân sự\"), (\"TV\",\"Phòng Tư vấn - chăm sóc khách hàng\"), (\"MH\",\"Phòng mua hàng\"), (\"KD\",\"Phòng kinh doanh\")]\n",
    "cursor = conn.cursor()\n",
    "cursor.executemany(\"INSERT INTO PHONG_BAN VALUES(?,?);\", paramPhongBan)\n"
   ]
  },
  {
   "cell_type": "code",
   "execution_count": 70,
   "metadata": {},
   "outputs": [],
   "source": [
    "paramNhanVien = [(\"A01\",\"Hoàng Ngọc Anh\", \"MH\"), (\"B01\",\"Trần Văn Bình\",\"NS\"), \n",
    "                 (\"C01\",\"Lê Thị Châu\", \"KD\"), (\"C02\",\"Nguyễn Văn Chính\", \"KD\"), \n",
    "                 (\"D01\",\"Lê Văn Dũng\", \"KT\"), (\"E01\",\"Nguyễn Thi Thu Thủy\", \"TV\")]\n",
    "sqlNV = \"INSERT INTO NHAN_VIEN VALUES(?,?,?);\"\n",
    "executeMany(sqlNV, paramNhanVien)"
   ]
  },
  {
   "cell_type": "code",
   "execution_count": 71,
   "metadata": {},
   "outputs": [],
   "source": [
    "paramDeNghi = [(\"2005001\",\"15/4/2005\", \"A01\", 10000000), (\"2005002\",\"20/4/2005\", \"B01\", 2000000),\n",
    "              (\"2005003\",\"28/4/2005\", \"C01\", 3500000), (\"2005004\",\"10/5/2005\", \"C02\", 5000000),\n",
    "              (\"2005005\",\"12/7/2005\", \"A01\", 4000000), (\"2005006\",\"14/8/2005\", \"C01\", 3000000)]\n",
    "sqlDN = \"INSERT INTO DE_NGHI VALUES(?,?,?,?);\"\n",
    "executeMany(sqlDN, paramDeNghi)"
   ]
  },
  {
   "cell_type": "code",
   "execution_count": 72,
   "metadata": {},
   "outputs": [],
   "source": [
    "paramPhieuChi = [(\"PC001\",\"15/4/2005\", \"2005001\", \"A01\", 10000000 ), (\"PC002\",\"21/4/2005\", \"2005002\", \"B01\", 2000000 ),\n",
    "                (\"PC003\",\"24/8/2005\", \"2005003\", \"C01\", 3500000 ), (\"PC004\",\"11/5/2005\", \"2005004\", \"C02\", 2000000 ),\n",
    "                (\"PC005\",\"13/5/2005\", \"2005004\", \"C02\", 1000000 ), (\"PC006\",\"15/7/2005\", \"2005005\", \"A01\", 10000000 )]\n",
    "sqlPC = \"INSERT INTO PHIEU_CHI VALUES(?,?,?,?,?);\"\n",
    "executeMany(sqlPC, paramPhieuChi)"
   ]
  },
  {
   "cell_type": "code",
   "execution_count": 73,
   "metadata": {},
   "outputs": [],
   "source": [
    "conn.commit()"
   ]
  },
  {
   "cell_type": "markdown",
   "metadata": {},
   "source": [
    "### Câu 2 : Thực hiện các câu lệnh truy vấn dữ liệu"
   ]
  },
  {
   "cell_type": "markdown",
   "metadata": {},
   "source": [
    "#### 1.\tLiệt kê danh sách các nhân viên có tên lót là Văn "
   ]
  },
  {
   "cell_type": "code",
   "execution_count": 74,
   "metadata": {},
   "outputs": [
    {
     "name": "stdout",
     "output_type": "stream",
     "text": [
      "('B01', 'Trần Văn Bình', 'NS')\n",
      "('C02', 'Nguyễn Văn Chính', 'KD')\n",
      "('D01', 'Lê Văn Dũng', 'KT')\n"
     ]
    }
   ],
   "source": [
    "sql1 = \"select * from NHAN_VIEN where Tennv like '%Văn%'\"\n",
    "executeSql(sql1)"
   ]
  },
  {
   "cell_type": "markdown",
   "metadata": {},
   "source": [
    "#### 2.\tLiệt kê các nhân viên với tổng số tiền tạm ứng của mỗi nhân viên (một nhân viên có thể có nhiều phiếu tạm ứng). Thông tin liệt kê bao gồm : Manv, Tên nhân viên và Tổng tiền tạm ứng"
   ]
  },
  {
   "cell_type": "code",
   "execution_count": 75,
   "metadata": {},
   "outputs": [
    {
     "name": "stdout",
     "output_type": "stream",
     "text": [
      "('A01', 'Hoàng Ngọc Anh', 14000000)\n",
      "('B01', 'Trần Văn Bình', 2000000)\n",
      "('C01', 'Lê Thị Châu', 6500000)\n",
      "('C02', 'Nguyễn Văn Chính', 5000000)\n"
     ]
    }
   ],
   "source": [
    "sql2 = \"select nv.MaNV, nv.TenNV, sum(dn.Sotien_tu) from NHAN_VIEN nv join DE_NGHI dn on dn.Manv = nv.Manv group by nv.MaNV, nv.TenNV\"\n",
    "executeSql(sql2)"
   ]
  },
  {
   "cell_type": "markdown",
   "metadata": {},
   "source": [
    "#### 3.\tLiệt kê các phiếu đề nghị tạm ứng mà chưa có phiếu chi. Thông tin liệt kê bao gồm : Số tạm ứng, Ngày tạm ứng và Manv"
   ]
  },
  {
   "cell_type": "code",
   "execution_count": 76,
   "metadata": {},
   "outputs": [
    {
     "name": "stdout",
     "output_type": "stream",
     "text": [
      "('2005006', '14/8/2005', 'C01', 3000000)\n"
     ]
    }
   ],
   "source": [
    "sql3 = \"select * from DE_NGHI where sotu not in (select sotu from PHIEU_CHI)\"\n",
    "executeSql(sql3)"
   ]
  },
  {
   "cell_type": "markdown",
   "metadata": {},
   "source": [
    "#### 4.\tLiệt kê các phiếu đề nghị tạm ứng có Số tiền tạm ứng lớn hơn Số tiền tạm ứng trung bình"
   ]
  },
  {
   "cell_type": "code",
   "execution_count": 77,
   "metadata": {},
   "outputs": [
    {
     "name": "stdout",
     "output_type": "stream",
     "text": [
      "('2005001', '15/4/2005', 'A01', 10000000)\n",
      "('2005004', '10/5/2005', 'C02', 5000000)\n"
     ]
    }
   ],
   "source": [
    "sql3 = \"select * from DE_NGHI where Sotien_tu > (select AVG(Sotien_tu) from DE_NGHI)\"\n",
    "executeSql(sql3)"
   ]
  },
  {
   "cell_type": "markdown",
   "metadata": {},
   "source": [
    "#### 5.\tLiệt kê các phiếu tạm ứng chưa được chi đủ số tiền đề nghị tạm ứng (Tổng tiền chi < Tiền đề nghị tạm ứng)"
   ]
  },
  {
   "cell_type": "code",
   "execution_count": null,
   "metadata": {},
   "outputs": [],
   "source": [
    "sql5 = \"select * from DE_NGHI where Sotien_tu > (select SUM(Sotien_tu) from DE_NGHI)\"\n",
    "executeSql(sql5)"
   ]
  },
  {
   "cell_type": "markdown",
   "metadata": {},
   "source": [
    "#### 6.\tLiệt kê danh sách các nhân viên có nhiều lần đề nghị tạm ứng nhất "
   ]
  },
  {
   "cell_type": "code",
   "execution_count": 78,
   "metadata": {},
   "outputs": [
    {
     "name": "stdout",
     "output_type": "stream",
     "text": [
      "('2005001', '15/4/2005', 'A01', 10000000)\n",
      "('2005003', '28/4/2005', 'C01', 3500000)\n",
      "('2005005', '12/7/2005', 'A01', 4000000)\n",
      "('2005006', '14/8/2005', 'C01', 3000000)\n"
     ]
    }
   ],
   "source": [
    "sql6 = \"\"\"select * from DE_NGHI where Manv in \n",
    "                (select Manv from DE_NGHI GROUP by Manv HAVING count(Manv) > 1)\n",
    "        \"\"\"\n",
    "executeSql(sql6)"
   ]
  },
  {
   "cell_type": "markdown",
   "metadata": {},
   "source": [
    "### Câu 3 : Trực quan hóa dữ liệu "
   ]
  },
  {
   "cell_type": "markdown",
   "metadata": {},
   "source": [
    "#### 1.\tThực hiện truy vấn tính Tổng số tiền tạm ứng của các phòng ban, kết quả lưu vào DataFrame như sau: "
   ]
  },
  {
   "cell_type": "code",
   "execution_count": 81,
   "metadata": {},
   "outputs": [
    {
     "data": {
      "text/html": [
       "<div>\n",
       "<style scoped>\n",
       "    .dataframe tbody tr th:only-of-type {\n",
       "        vertical-align: middle;\n",
       "    }\n",
       "\n",
       "    .dataframe tbody tr th {\n",
       "        vertical-align: top;\n",
       "    }\n",
       "\n",
       "    .dataframe thead th {\n",
       "        text-align: right;\n",
       "    }\n",
       "</style>\n",
       "<table border=\"1\" class=\"dataframe\">\n",
       "  <thead>\n",
       "    <tr style=\"text-align: right;\">\n",
       "      <th></th>\n",
       "      <th>Mapb</th>\n",
       "      <th>Tenphong</th>\n",
       "      <th>TongTien</th>\n",
       "    </tr>\n",
       "  </thead>\n",
       "  <tbody>\n",
       "    <tr>\n",
       "      <th>0</th>\n",
       "      <td>KD</td>\n",
       "      <td>Phòng kinh doanh</td>\n",
       "      <td>11500000</td>\n",
       "    </tr>\n",
       "    <tr>\n",
       "      <th>1</th>\n",
       "      <td>MH</td>\n",
       "      <td>Phòng mua hàng</td>\n",
       "      <td>14000000</td>\n",
       "    </tr>\n",
       "    <tr>\n",
       "      <th>2</th>\n",
       "      <td>NS</td>\n",
       "      <td>Phòng nhân sự</td>\n",
       "      <td>2000000</td>\n",
       "    </tr>\n",
       "  </tbody>\n",
       "</table>\n",
       "</div>"
      ],
      "text/plain": [
       "  Mapb          Tenphong  TongTien\n",
       "0   KD  Phòng kinh doanh  11500000\n",
       "1   MH    Phòng mua hàng  14000000\n",
       "2   NS     Phòng nhân sự   2000000"
      ]
     },
     "execution_count": 81,
     "metadata": {},
     "output_type": "execute_result"
    }
   ],
   "source": [
    "sqlpd = \"\"\"\n",
    "        select p.mapb, Tenphong, sum(dn.Sotien_tu) TongTien\n",
    "        from PHONG_BAN p join NHAN_VIEN nv on nv.Mapb = p.Mapb\n",
    "        JOIN DE_NGHI dn on dn.Manv = nv.Manv\n",
    "        GROUP by p.mapb, Tenphong\n",
    "\"\"\" \n",
    "df = pd.read_sql_query(sqlpd, conn)\n",
    "df.head()\n"
   ]
  },
  {
   "cell_type": "code",
   "execution_count": 86,
   "metadata": {},
   "outputs": [
    {
     "data": {
      "image/png": "[encoded data removed]",
      "text/plain": [
       "<Figure size 432x288 with 1 Axes>"
      ]
     },
     "metadata": {
      "needs_background": "light"
     },
     "output_type": "display_data"
    }
   ],
   "source": [
    "df.plot.bar(x='Tenphong', y='TongTien')\n",
    "plt.title = \"Tong Tien tam ung\""
   ]
  },
  {
   "cell_type": "markdown",
   "metadata": {},
   "source": [
    "#### 3.\tSử dụng thư viện matplotlib để vẽ biểu đồ pie (Pie chart) như sau "
   ]
  },
  {
   "cell_type": "code",
   "execution_count": 87,
   "metadata": {},
   "outputs": [
    {
     "data": {
      "text/plain": [
       "<matplotlib.axes._subplots.AxesSubplot at 0x1c8e17b8>"
      ]
     },
     "execution_count": 87,
     "metadata": {},
     "output_type": "execute_result"
    },
    {
     "data": {
      "image/png": "[encoded data removed]",
      "text/plain": [
       "<Figure size 432x288 with 1 Axes>"
      ]
     },
     "metadata": {},
     "output_type": "display_data"
    }
   ],
   "source": [
    "df.plot(kind='pie', y = 'TongTien', autopct='%1.1f%%', \n",
    " startangle=90, shadow=False, labels=df['Tenphong'], legend = False, fontsize=14)"
   ]
  },
  {
   "cell_type": "markdown",
   "metadata": {},
   "source": [
    "#### 4.\tNhận xét cho 2 biểu đồ trên "
   ]
  },
  {
   "cell_type": "markdown",
   "metadata": {},
   "source": [
    "##### Phong mua hang tam ung tien nhieu nhat, Phong Nhan su tam ung tien it nhat"
   ]
  },
  {
   "cell_type": "code",
   "execution_count": 89,
   "metadata": {},
   "outputs": [],
   "source": [
    "conn.close()"
   ]
  },
  {
   "cell_type": "code",
   "execution_count": null,
   "metadata": {},
   "outputs": [],
   "source": []
  }
 ],
 "metadata": {
  "kernelspec": {
   "display_name": "Python 3",
   "language": "python",
   "name": "python3"
  },
  "language_info": {
   "codemirror_mode": {
    "name": "ipython",
    "version": 3
   },
   "file_extension": ".py",
   "mimetype": "text/x-python",
   "name": "python",
   "nbconvert_exporter": "python",
   "pygments_lexer": "ipython3",
   "version": "3.6.8"
  }
 },
 "nbformat": 4,
 "nbformat_minor": 2
}
