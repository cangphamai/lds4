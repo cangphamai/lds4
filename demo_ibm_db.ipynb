{
 "cells": [
  {
   "cell_type": "code",
   "execution_count": 1,
   "metadata": {},
   "outputs": [],
   "source": [
    "import ibm_db"
   ]
  },
  {
   "cell_type": "code",
   "execution_count": 5,
   "metadata": {},
   "outputs": [],
   "source": [
    "# db_name = 'BLUDB'\n",
    "# host_name = 'dashdb-txn-sbox-yp-lon02-06.services.eu-gb.bluemix.net'\n",
    "# port = '50000'\n",
    "# protocol = 'TCPIP'\n",
    "# user = 'qkt06967'\n",
    "# password='w-c5tkghp1166qzp'\n",
    "dns = 'DATABASE=BLUDB;HOSTNAME=dashdb-txn-sbox-yp-lon02-06.services.eu-gb.bluemix.net;PORT=50000;PROTOCOL=TCPIP;UID=qkt06967;PWD=w-c5tkghp1166qzp;'\n",
    "ketnoi = ibm_db.connect(dns,'','')"
   ]
  },
  {
   "cell_type": "code",
   "execution_count": 6,
   "metadata": {},
   "outputs": [],
   "source": [
    "sql = '''\n",
    "create table KHOA (\n",
    "    MaKH varchar(2) Primary key not null,\n",
    "    TenKH varchar(30)\n",
    ")\n",
    "'''\n",
    "results = ibm_db.exec_immediate(ketnoi, sql)"
   ]
  },
  {
   "cell_type": "code",
   "execution_count": 7,
   "metadata": {},
   "outputs": [],
   "source": [
    "sql = '''\n",
    "insert into KHOA\n",
    "Values ('CN', 'Công nghệ thông tin'),\n",
    "        ('TO', 'Toán')\n",
    "'''\n",
    "results = ibm_db.exec_immediate(ketnoi, sql)"
   ]
  },
  {
   "cell_type": "code",
   "execution_count": 8,
   "metadata": {},
   "outputs": [
    {
     "data": {
      "text/plain": [
       "{'MAKH': 'CN',\n",
       " 0: 'CN',\n",
       " 'TENKH': 'Công nghệ thông tin',\n",
       " 1: 'Công nghệ thông tin'}"
      ]
     },
     "execution_count": 8,
     "metadata": {},
     "output_type": "execute_result"
    }
   ],
   "source": [
    "sql = \"select * from KHOA\"\n",
    "results = ibm_db.exec_immediate(ketnoi, sql)\n",
    "ibm_db.fetch_both(results)"
   ]
  },
  {
   "cell_type": "code",
   "execution_count": 9,
   "metadata": {},
   "outputs": [
    {
     "data": {
      "text/plain": [
       "{'MAKH': 'TO', 0: 'TO', 'TENKH': 'Toán', 1: 'Toán'}"
      ]
     },
     "execution_count": 9,
     "metadata": {},
     "output_type": "execute_result"
    }
   ],
   "source": [
    "ibm_db.fetch_both(results)"
   ]
  },
  {
   "cell_type": "code",
   "execution_count": 10,
   "metadata": {},
   "outputs": [],
   "source": [
    "#Truy vấn có tham số\n",
    "sql = 'select * from KHOA where MaKH = ?'\n",
    "#Bước 1: dùng hàm prepare để tạo các tham số\n",
    "stmt = ibm_db.prepare(ketnoi, sql)\n",
    "\n",
    "#Bước 2: truyền giá trị cho tham số thông qua số thứ tự của tham số\n",
    "ibm_db.bind_param(stmt, 1, 'TO')\n",
    "\n",
    "#Bước 3: Thực thi truy vấn có tham số với phương thức execute\n",
    "results = ibm_db.execute(stmt)\n"
   ]
  },
  {
   "cell_type": "code",
   "execution_count": 11,
   "metadata": {},
   "outputs": [
    {
     "ename": "Exception",
     "evalue": "Supplied statement object parameter is invalid",
     "output_type": "error",
     "traceback": [
      "\u001b[1;31m---------------------------------------------------------------------------\u001b[0m",
      "\u001b[1;31mException\u001b[0m                                 Traceback (most recent call last)",
      "\u001b[1;32m<ipython-input-11-6f82f217d290>\u001b[0m in \u001b[0;36m<module>\u001b[1;34m\u001b[0m\n\u001b[1;32m----> 1\u001b[1;33m \u001b[0mibm_db\u001b[0m\u001b[1;33m.\u001b[0m\u001b[0mfetch_both\u001b[0m\u001b[1;33m(\u001b[0m\u001b[0mresults\u001b[0m\u001b[1;33m)\u001b[0m\u001b[1;33m\u001b[0m\u001b[1;33m\u001b[0m\u001b[0m\n\u001b[0m",
      "\u001b[1;31mException\u001b[0m: Supplied statement object parameter is invalid"
     ]
    }
   ],
   "source": [
    "ibm_db.fetch_both(results)"
   ]
  },
  {
   "cell_type": "code",
   "execution_count": 12,
   "metadata": {},
   "outputs": [
    {
     "data": {
      "text/plain": [
       "('CN', 'Công nghệ thông tin')"
      ]
     },
     "execution_count": 12,
     "metadata": {},
     "output_type": "execute_result"
    }
   ],
   "source": [
    "sql = \"select * from KHOA\"\n",
    "results = ibm_db.exec_immediate(ketnoi, sql)\n",
    "ibm_db.fetch_tuple(results)"
   ]
  },
  {
   "cell_type": "code",
   "execution_count": 13,
   "metadata": {},
   "outputs": [
    {
     "data": {
      "text/plain": [
       "{'MAKH': 'TO', 'TENKH': 'Toán'}"
      ]
     },
     "execution_count": 13,
     "metadata": {},
     "output_type": "execute_result"
    }
   ],
   "source": [
    "ibm_db.fetch_assoc(results)"
   ]
  },
  {
   "cell_type": "code",
   "execution_count": 15,
   "metadata": {},
   "outputs": [],
   "source": [
    "sql = \"select * from KHOA\"\n",
    "results = ibm_db.exec_immediate(ketnoi, sql)\n",
    "kq = ibm_db.fetch_both(results)"
   ]
  },
  {
   "cell_type": "code",
   "execution_count": 16,
   "metadata": {},
   "outputs": [
    {
     "data": {
      "text/plain": [
       "'CN'"
      ]
     },
     "execution_count": 16,
     "metadata": {},
     "output_type": "execute_result"
    }
   ],
   "source": [
    "kq[0]"
   ]
  },
  {
   "cell_type": "code",
   "execution_count": 17,
   "metadata": {},
   "outputs": [
    {
     "data": {
      "text/plain": [
       "'CN'"
      ]
     },
     "execution_count": 17,
     "metadata": {},
     "output_type": "execute_result"
    }
   ],
   "source": [
    "kq['MAKH']"
   ]
  },
  {
   "cell_type": "code",
   "execution_count": 18,
   "metadata": {},
   "outputs": [],
   "source": [
    "kq2 = ibm_db.fetch_assoc(results)"
   ]
  },
  {
   "cell_type": "code",
   "execution_count": 20,
   "metadata": {},
   "outputs": [
    {
     "data": {
      "text/plain": [
       "'TO'"
      ]
     },
     "execution_count": 20,
     "metadata": {},
     "output_type": "execute_result"
    }
   ],
   "source": [
    "kq2['MAKH']"
   ]
  },
  {
   "cell_type": "code",
   "execution_count": 22,
   "metadata": {},
   "outputs": [
    {
     "name": "stdout",
     "output_type": "stream",
     "text": [
      "Mã khoa:  CN  - Tên khoa: Công nghệ thông tin\n",
      "Mã khoa:  TO  - Tên khoa: Toán\n"
     ]
    }
   ],
   "source": [
    "#minh họa fetch_row\n",
    "sql = \"select * from KHOA\"\n",
    "results = ibm_db.exec_immediate(ketnoi, sql)\n",
    "while ibm_db.fetch_row(results):\n",
    "    print('Mã khoa: ', ibm_db.result(results, 0), ' - Tên khoa:', ibm_db.result(results, 'TENKH'))"
   ]
  },
  {
   "cell_type": "code",
   "execution_count": 24,
   "metadata": {},
   "outputs": [
    {
     "name": "stdout",
     "output_type": "stream",
     "text": [
      "Mã khoa:  CN  - Tên khoa: Công nghệ thông tin\n",
      "Mã khoa:  TO  - Tên khoa: Toán\n"
     ]
    }
   ],
   "source": [
    "#minh họa fetch_tuple\n",
    "sql = \"select * from KHOA\"\n",
    "results = ibm_db.exec_immediate(ketnoi, sql)\n",
    "row = ibm_db.fetch_tuple(results)\n",
    "while row:\n",
    "    print('Mã khoa: ', row[0], ' - Tên khoa:', row[1])\n",
    "    row = ibm_db.fetch_tuple(results)"
   ]
  },
  {
   "cell_type": "code",
   "execution_count": 25,
   "metadata": {},
   "outputs": [
    {
     "name": "stdout",
     "output_type": "stream",
     "text": [
      "Mã khoa:  CN  - Tên khoa: Công nghệ thông tin\n",
      "Mã khoa:  TO  - Tên khoa: Toán\n"
     ]
    }
   ],
   "source": [
    "#minh họa fetch_assoc\n",
    "sql = \"select * from KHOA\"\n",
    "results = ibm_db.exec_immediate(ketnoi, sql)\n",
    "row = ibm_db.fetch_assoc(results)\n",
    "while row:\n",
    "    print('Mã khoa: ', row['MAKH'], ' - Tên khoa:', row['TENKH'])\n",
    "    row = ibm_db.fetch_assoc(results)"
   ]
  },
  {
   "cell_type": "code",
   "execution_count": 26,
   "metadata": {},
   "outputs": [
    {
     "name": "stdout",
     "output_type": "stream",
     "text": [
      "Mã khoa:  CN  - Tên khoa: Công nghệ thông tin\n",
      "Mã khoa:  TO  - Tên khoa: Toán\n"
     ]
    }
   ],
   "source": [
    "#minh họa fetch_both\n",
    "sql = \"select * from KHOA\"\n",
    "results = ibm_db.exec_immediate(ketnoi, sql)\n",
    "row = ibm_db.fetch_both(results)\n",
    "while row:\n",
    "    print('Mã khoa: ', row[0], ' - Tên khoa:', row['TENKH'])\n",
    "    row = ibm_db.fetch_both(results)"
   ]
  },
  {
   "cell_type": "code",
   "execution_count": 27,
   "metadata": {},
   "outputs": [
    {
     "name": "stdout",
     "output_type": "stream",
     "text": [
      "Mã khoa:  TO  - Tên khoa: Toán\n"
     ]
    }
   ],
   "source": [
    "#Truy vấn có tham số\n",
    "sql = 'select * from KHOA where MaKH = ?'\n",
    "#Bước 1: dùng hàm prepare để tạo các tham số\n",
    "stmt = ibm_db.prepare(ketnoi, sql)\n",
    "\n",
    "#Bước 2: truyền giá trị cho tham số thông qua số thứ tự của tham số\n",
    "ibm_db.bind_param(stmt, 1, 'TO')\n",
    "\n",
    "#Bước 3: Thực thi truy vấn có tham số với phương thức execute\n",
    "results = ibm_db.execute(stmt)\n",
    "\n",
    "#Duyệt để xuất dữ liệu\n",
    "row = ibm_db.fetch_tuple(stmt)\n",
    "while row:\n",
    "    print('Mã khoa: ', row[0], ' - Tên khoa:', row[1])\n",
    "    row = ibm_db.fetch_tuple(stmt)"
   ]
  },
  {
   "cell_type": "code",
   "execution_count": null,
   "metadata": {},
   "outputs": [],
   "source": []
  }
 ],
 "metadata": {
  "kernelspec": {
   "display_name": "Python 3",
   "language": "python",
   "name": "python3"
  },
  "language_info": {
   "codemirror_mode": {
    "name": "ipython",
    "version": 3
   },
   "file_extension": ".py",
   "mimetype": "text/x-python",
   "name": "python",
   "nbconvert_exporter": "python",
   "pygments_lexer": "ipython3",
   "version": "3.6.8"
  }
 },
 "nbformat": 4,
 "nbformat_minor": 2
}
